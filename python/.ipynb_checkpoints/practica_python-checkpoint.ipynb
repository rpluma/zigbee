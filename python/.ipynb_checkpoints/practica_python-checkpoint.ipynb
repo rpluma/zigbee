{
 "cells": [
  {
   "cell_type": "markdown",
   "id": "2e9b45cd-0f11-4aaa-8a99-b4a4025b1728",
   "metadata": {},
   "source": [
    "# 1 Preparación del entrono de desarrollo\n",
    "\n",
    "## 1.1. Instalación de miniconda\n",
    "\n",
    "Instalar miniconda: https://docs.anaconda.com/free/miniconda/index.html\n",
    "\n",
    "## 1.2 Crear entorno zigbee\n",
    "\n",
    "Entramos en miniconda a través del menú de inicio: Start > Anaconda Prompt (miniconda 3)\n",
    "\n",
    "Desde la línea de comandos creamos el entrono python con nombre zigbee \n",
    "\n",
    "```\n",
    "(base) ...> conda create -n zigbee python\n",
    "```\n",
    "\n",
    "Una vez creado el entorno, lo activamos e instalamos las librerías pyserial (manejo del puerto serie) y jupyter (entorno de desarrollo Jupyter lab)\n",
    "```\n",
    "(base) ...> conda activate zigbee\n",
    "(zigbee) ...> conda install pyserial jupyter\n",
    "```\n",
    "\n",
<<<<<<< HEAD
    "Gestión de dispositivos -> Com Ports\n",
    "- COM5: dispositivo 1\n",
    "- COM6: dispositivo 2\n",
    "- COM8: dispositivo 3"
=======
    "## 1.3 Replicar el repositorio de la práctica\n",
    "\n",
    "Desde el prompt de miniconda, nos movemos a la carpeta donde vamos a descargar el repositorio y lo clonamos\n",
    "\n",
    "```\n",
    "(base) ...> cd c:\\src\n",
    "(base) c:\\src> git clone https://github.com/rpluma/zigbee.git\n",
    "```\n",
    "\n",
    "## 1.4 Uso del entorno de desarrollo\n",
    "\n",
    "Entramos en miniconda a través del menú de inicio: Start > Anaconda Prompt (miniconda 3)\n",
    "Cambiamos a la carpeta con el repositorio, activamos el entorno y ejecutamos jupyter lab\n",
    "\n",
    "```\n",
    "(base) ...> cd c:\\src\\zigbee\n",
    "(base) c:\\src\\zigbee> conda activate zigbee\n",
    "(zigbee) c:\\src\\zigbee> conda activate zigbee\n",
    "(zigbee) c:\\src\\zigbee> jupyter lab\n",
    "```\n"
>>>>>>> c4ce2a2793e1bcf2a497fff656c52810fe5f3f8f
   ]
  },
  {
   "cell_type": "markdown",
   "id": "4b64ace1-9b30-4609-9438-c65fbd1aa7c9",
   "metadata": {},
   "source": [
    "# 2 Desarrollo y pruebas\n",
    "\n",
    "## 2.1 Detección de los puertos series en los que se han conectado los dispositivos\n",
    "\n",
    "Desde Inicio -> Gestión de dispositivos -> Com Ports\n",
    "- COM5: dispositivo 1\n",
    "- COM6: dispositivo 2\n",
    "- COM7: dispositivo 3\n",
    "- COM8: dispositivo 4\n",
    "\n",
    "## 2.2 Importación de librerías"
   ]
  },
  {
   "cell_type": "code",
   "execution_count": 1,
   "id": "4d80ecd2-94a4-4036-bb5c-aea6e817c745",
   "metadata": {},
   "outputs": [],
   "source": [
    "import sys\n",
    "import time\n",
    "import serial\n",
    "from math import exp # función exponencial\n",
    "import matplotlib.pyplot as plt # graficar el resultado"
   ]
  },
  {
   "cell_type": "markdown",
   "id": "296e9c68-35dd-42ee-aeee-3bdc52c03f4e",
   "metadata": {},
   "source": [
<<<<<<< HEAD
    "## Funciones auxiliares\n",
    "\n",
    "### Conversión de rssi (hexadecimal) a entero"
=======
    "## 2.3 Función de conversión del valor de rssi (hexadecimal) a entero"
>>>>>>> c4ce2a2793e1bcf2a497fff656c52810fe5f3f8f
   ]
  },
  {
   "cell_type": "code",
   "execution_count": 2,
   "id": "340f5a2d-fc6d-440d-b528-0e955d25d3e2",
   "metadata": {},
   "outputs": [
    {
     "data": {
      "text/plain": [
       "['1B=>1.425', '34=>29.719', '40=>127.714', '47=>298.955', '5E=>4889.248']"
      ]
     },
     "execution_count": 2,
     "metadata": {},
     "output_type": "execute_result"
    }
   ],
   "source": [
    "def rssi2dist(rssi):\n",
    "    x = int(rssi.strip(),16)\n",
    "    y = 0.0536*exp(0.1215*x)\n",
    "    return y\n",
    "[\"{0}=>{1:.3f}\".format(hex,rssi2dist(hex)) for hex in ['1B', '34', '40', '47', '5E']]\n"
   ]
  },
  {
   "cell_type": "markdown",
   "id": "deefa686-6392-4f6d-8f1f-ae83cdc1b7a7",
   "metadata": {},
   "source": [
    "### Extraer un substring después de una clave\n",
    "\n",
    "Devuelve el string o -1 si no encuentra la clave"
   ]
  },
  {
   "cell_type": "code",
   "execution_count": 3,
   "id": "7c73473a-3800-45f9-91b0-027ffc553087",
   "metadata": {},
   "outputs": [
    {
     "name": "stdout",
     "output_type": "stream",
     "text": [
      "3\n",
      "12\n",
      "34\n",
      "-1\n"
     ]
    }
   ],
   "source": [
    "def extraer(respuesta, clave):\n",
    "    pos1 = respuesta.find(clave)\n",
    "    if pos1 > 0:\n",
    "        pos1 += len(clave)\n",
    "        pos2 = pos1 + respuesta[pos1:].find(\" \")\n",
    "        return int(respuesta[pos1:pos2])\n",
    "    else:\n",
    "        return -1\n",
    "\n",
    "respuesta = \"abcde baliza=3 posx=12 posy=34 abcde\"\n",
    "print(extraer(respuesta,\"baliza=\"))\n",
    "print(extraer(respuesta,\"posx=\"))\n",
    "print(extraer(respuesta,\"posy=\"))\n",
    "print(extraer(\"Baliza=1\", \"baliza=\"))"
   ]
  },
  {
   "cell_type": "code",
   "execution_count": 4,
   "id": "87b134e1-02a6-423a-b4e6-4e104935a9ab",
   "metadata": {},
   "outputs": [
    {
     "data": {
      "image/png": "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",
      "text/plain": [
       "<Figure size 640x480 with 1 Axes>"
      ]
     },
     "metadata": {},
     "output_type": "display_data"
    }
   ],
   "source": [
    "def graficar_resultados(r1, r2, r3, movil):\n",
    "    plt.plot(r1[1], r1[2], 'x', label='baliza='+str(r1[0]))\n",
    "    plt.plot(r2[1], r2[2], 'x', label='baliza='+str(r2[0]))\n",
    "    plt.plot(r3[1], r3[2], 'x', label='baliza='+str(r3[0]))\n",
    "    x0, y0 = movil\n",
    "    plt.plot(x0, y0, 'o', label='z0 móvil')\n",
    "    plt.legend(loc='lower right')\n",
    "    plt.xlabel(\"Eje x (cm)\")\n",
    "    plt.ylabel(\"Eje y (cm)\")\n",
    "    plt.gca().invert_yaxis()\n",
    "    plt.grid()\n",
    "    plt.show()\n",
    "graficar_resultados(['topleft', 0, 0], ['topright', 150, 0], ['bottomleft', 0, 150], (50, 50))"
   ]
  },
  {
   "cell_type": "markdown",
   "id": "28494d52-75a7-4b4a-b8ca-7b3fbb6bfb6a",
   "metadata": {},
   "source": [
    "## 2.4 Definición de la clase Zigbee \n",
    "\n",
    "Empaqueta toda la funcionalidad requerida para un dispositivo:\n",
    "- Método init: Constructor de la clase.\n",
    "    - Inicializa el puerto serie con parámetros por defecto (9600 8-N-1)\n",
    "    - El argumento dev es de la forma '/dev/ttyUSB*' o 'COM*'\n",
    "- Método command_mode_start: Entra en modo comando con +++\n",
    "- Método command_mode_exit: Sale del modo comando con ATCN\n",
    "- Método command_at: envía un mensaje tipo AT concatenando un fin de línea e imprime el comando y la respuesta\n",
    "- Método configurar: configura un dispositivo y guarda la configuración de forma permanente\n",
    "- Método enviar: envía un mensaje cambiando el destino con ATDL cuando sea preciso\n",
    "- Metodo enviar_mi_posicion: envía un mensaje especial indicando el número y la posición de la baliza\n",
    "- Método recibir_texto: recibe un texto cualquiera enviado por otro dispositivo\n",
    "- Método recibir_baliza: recibe el texto especial envido por una baliza y añade la distancia\n",
    "- Método posicionar: calcula la posición aproximada a partir de los mensajes de 3 balizas"
   ]
  },
  {
   "cell_type": "code",
   "execution_count": 5,
   "id": "24cf691f-f4ea-4bc8-a177-5be671cbcb73",
   "metadata": {},
   "outputs": [],
   "source": [
    "class Zigbee:\n",
    "    puerto = None\n",
    "    panid = None\n",
    "    myid = None\n",
    "    dlid = None\n",
    "    posx = None\n",
    "    posy = None\n",
    "    \n",
    "    def __init__(self, myid, device, posx=None, posy=None):\n",
    "        self.myid = str(myid)\n",
    "        self.puerto = serial.Serial(device, 9600, \n",
    "                            parity=serial.PARITY_NONE,\n",
    "                            bytesize=serial.EIGHTBITS,\n",
    "                            stopbits=serial.STOPBITS_ONE,\n",
    "                            rtscts=False)\n",
    "        self.posx = posx\n",
    "        self.posy = posy\n",
    "        \n",
    "    def command_mode_start(self):\n",
    "        time.sleep(1)   # guarda de 1 segundo\n",
    "        self.puerto.write(b'+++') \n",
    "        time.sleep(1)   # ademas hay que esperar 1 segundo al OK\n",
    "        print(\"{}>+++ \".format(self.myid, self.puerto.read(3).decode('utf-8')))\n",
    "        return \n",
    "\n",
    "    def command_mode_exit(self):\n",
    "        self.command_at('ATCN')\n",
    "        return\n",
    "\n",
    "    def command_at(self, msg): \n",
    "        time.sleep(1)\n",
    "        toSerial = msg+\"\\r\\n\" # concatenar LF, CR\n",
    "        self.puerto.write(toSerial.encode('ascii', 'replace'))\n",
    "        self.puerto.flush()\n",
    "        time.sleep(.2)\n",
    "        bytesToRead = self.puerto.inWaiting() # imprimir respuesta\n",
    "        fromSerial = self.puerto.read(bytesToRead)\n",
    "        print (\"z{}>{}: [{}]\".format(self.myid, msg, fromSerial.decode('utf-8').strip()))\n",
    "        return fromSerial.decode('utf-8')\n",
    "        \n",
    "    def configurar(self, panid='3210'):\n",
    "        self.panid = str(panid)             # guardar el valor de panid como string        \n",
    "        self.command_mode_start()           # entrar en modo comando con +++\n",
    "        self.command_at('AT')               # comprobar que se aceptan comandos AT\n",
    "        self.command_at('ATRE')             # resetea la configuración guardada\n",
    "        self.command_at('ATID '+self.panid) # definir el PANID\n",
    "        self.command_at('ATDH 0')           # definir direcciones de 16 bits\n",
    "        self.command_at('ATMY '+self.myid)  # definir la dirección MY addres\n",
    "        self.command_at('ATWR')             # guardar la configuración de forma permanente\n",
    "        # self.command_at('ATCH')\n",
    "        self.command_mode_exit()            # salir del modo +++\n",
    "\n",
    "    def enviar(self, destino='2', msg='mensaje'):\n",
    "        print(\"z{} envía a z{}: [{}]\".format(self.myid, destino, msg))\n",
    "        if self.dlid != str(destino):\n",
    "            self.dlid = str(destino)\n",
    "            self.command_mode_start()           # entrar en modo comando con +++\n",
    "            self.command_at('ATDL '+self.dlid)  # establecer el destino del mensaje        \n",
    "            self.command_mode_exit()            # salir del modo +++\n",
    "        self.puerto.write(msg.encode('ascii', 'replace'))\n",
    "        self.puerto.flush()\n",
    "        time.sleep(.1)\n",
    "\n",
    "    def enviar_mi_posicion(self, destino):\n",
    "        msg = \" baliza={} posx={} posy={} \".format(self.myid, self.posx, self.posy)\n",
    "        self.enviar(destino, msg)\n",
    "        \n",
    "    def recibir_texto(self):\n",
    "        # time.sleep(.1)                     # espero a que llegue un mensaje completo\n",
    "        tamano = self.puerto.inWaiting()     # espero al puerto serie\n",
    "        resp = self.puerto.read(tamano)      # leo del puerto serie\n",
    "        resp = resp.decode('utf-8')          # convierto de ascii a unicode\n",
    "        print(\"z{} recibe: [{}]\".format(self.myid, resp))\n",
    "        return (resp)\n",
    "            \n",
    "    def recibir_baliza(self):\n",
    "        tamano = self.puerto.inWaiting()     # espero al puerto serie\n",
    "        resp = self.puerto.read(tamano)      # leo del puerto serie\n",
    "        resp = resp.decode('utf-8')          # convierto de ascii a unicode\n",
    "        \n",
    "        #resp = resp.strip()                  # quito blancos y fines de línea al inicio y final\n",
    "        #lista = resp.split(\" \")              # creo una lista separando la respuesta por espacios\n",
    "        \n",
    "        #baliza = lista[1]                    # la baliza es el segundo elemento de la lista        \n",
    "        #posx = int(lista[3])                 # la posición x de la baliza es el cuarto elemento\n",
    "        #posy = int(lista[5])                 # la posición y de la balia es el sexto elemento\n",
    "        baliza = extraer(resp, \"baliza=\")\n",
    "        posx = extraer(resp, \"posx=\")\n",
    "        posy = extraer(resp, \"posy=\")\n",
    "        \n",
    "        self.command_mode_start()            # entrar en modo comando con +++\n",
    "        rssi = self.command_at('ATDB')       # obtener el RSSI\n",
    "        dist = rssi2dist(rssi)               # convertir el valor de rssi a cm\n",
    "        self.command_mode_exit()             # salir del modo +++\n",
    "        \n",
    "        print(\"z{} recibe: baliza={} x={} y={} RSSI=[{}] => Distancia={:.2f} (cm)\".format(\n",
    "            self.myid, baliza, posx, posy, rssi.strip(), dist))\n",
    "        return (baliza, posx, posy, dist)\n",
    "\n",
    "    def posicionar(self, resp1, resp2, resp3):\n",
    "        b1, x1, y1, d1 = resp1 # self.recibir_baliza()\n",
    "        b2, x2, y2, d2 = resp2 #self.recibir_baliza()\n",
    "        b3, x3, y3, d3 = resp3 # self.recibir_baliza()\n",
    "        if b1>0 and b2>0 and b3>0:\n",
    "            xmin = max(x1-d1, x2-d2, x3-d3)\n",
    "            xmax = min(x1+d1, x2+d2, x3+d3)\n",
    "            ymin = max(y1-d1, y2-d2, y3-d3)\n",
    "            ymax = min(y1+d1, y2+d2, y3+d3)\n",
    "            x = (xmin+xmax)/2\n",
    "            y = (ymin+ymax)/2        \n",
    "            print(\"La posición de {} es x={:.3f}, y={:.3f}\".format(self.myid, x,y))\n",
    "            return (x, y)\n",
    "        else:\n",
    "            print(\"Alguna de las respuesas no indica la baliza\")\n",
    "            return None\n",
    "\n",
    "    def cerrar(self):\n",
    "        self.puerto.close()\n",
    "                "
   ]
  },
  {
   "cell_type": "markdown",
   "id": "1d3eae7e-96e4-48ef-bf57-f1106ef281e3",
   "metadata": {},
   "source": [
<<<<<<< HEAD
    "## Creación de objetos Zigbee para cada uno de los cuatro dispositivos\n",
    "\n",
    "### Objeto Zigbee para instanciar el nodo móvil"
=======
    "## 2.5 Creación de objetos Zigbee para cada uno de los cuatro dispositivos"
>>>>>>> c4ce2a2793e1bcf2a497fff656c52810fe5f3f8f
   ]
  },
  {
   "cell_type": "code",
   "execution_count": 20,
   "id": "a7c65b8b-3e58-4d63-a72a-d5b2b035baa0",
   "metadata": {},
   "outputs": [
    {
     "ename": "SerialException",
     "evalue": "could not open port 'COM5': FileNotFoundError(2, 'The system cannot find the file specified.', None, 2)",
     "output_type": "error",
     "traceback": [
      "\u001b[1;31m---------------------------------------------------------------------------\u001b[0m",
      "\u001b[1;31mSerialException\u001b[0m                           Traceback (most recent call last)",
      "Cell \u001b[1;32mIn[4], line 1\u001b[0m\n\u001b[1;32m----> 1\u001b[0m z1 \u001b[38;5;241m=\u001b[39m Zigbee(\u001b[38;5;241m1\u001b[39m, \u001b[38;5;124m\"\u001b[39m\u001b[38;5;124mCOM5\u001b[39m\u001b[38;5;124m\"\u001b[39m)\n\u001b[0;32m      2\u001b[0m z2 \u001b[38;5;241m=\u001b[39m Zigbee(\u001b[38;5;241m2\u001b[39m, \u001b[38;5;124m\"\u001b[39m\u001b[38;5;124mCOM6\u001b[39m\u001b[38;5;124m\"\u001b[39m)\n\u001b[0;32m      3\u001b[0m z3 \u001b[38;5;241m=\u001b[39m Zigbee(\u001b[38;5;241m3\u001b[39m, \u001b[38;5;124m\"\u001b[39m\u001b[38;5;124mCOM8\u001b[39m\u001b[38;5;124m\"\u001b[39m)\n",
      "Cell \u001b[1;32mIn[3], line 8\u001b[0m, in \u001b[0;36mZigbee.__init__\u001b[1;34m(self, myid, device)\u001b[0m\n\u001b[0;32m      6\u001b[0m \u001b[38;5;28;01mdef\u001b[39;00m \u001b[38;5;21m__init__\u001b[39m(\u001b[38;5;28mself\u001b[39m, myid, device):\n\u001b[0;32m      7\u001b[0m     \u001b[38;5;28mself\u001b[39m\u001b[38;5;241m.\u001b[39mmyid \u001b[38;5;241m=\u001b[39m \u001b[38;5;28mstr\u001b[39m(myid)\n\u001b[1;32m----> 8\u001b[0m     \u001b[38;5;28mself\u001b[39m\u001b[38;5;241m.\u001b[39mpuerto \u001b[38;5;241m=\u001b[39m serial\u001b[38;5;241m.\u001b[39mSerial(device, \u001b[38;5;241m9600\u001b[39m, \n\u001b[0;32m      9\u001b[0m                         parity\u001b[38;5;241m=\u001b[39mserial\u001b[38;5;241m.\u001b[39mPARITY_NONE,\n\u001b[0;32m     10\u001b[0m                         bytesize\u001b[38;5;241m=\u001b[39mserial\u001b[38;5;241m.\u001b[39mEIGHTBITS,\n\u001b[0;32m     11\u001b[0m                         stopbits\u001b[38;5;241m=\u001b[39mserial\u001b[38;5;241m.\u001b[39mSTOPBITS_ONE,\n\u001b[0;32m     12\u001b[0m                         rtscts\u001b[38;5;241m=\u001b[39m\u001b[38;5;28;01mFalse\u001b[39;00m)\n",
      "File \u001b[1;32m~\\miniconda3\\envs\\zigbee\\Lib\\site-packages\\serial\\serialwin32.py:33\u001b[0m, in \u001b[0;36mSerial.__init__\u001b[1;34m(self, *args, **kwargs)\u001b[0m\n\u001b[0;32m     31\u001b[0m \u001b[38;5;28mself\u001b[39m\u001b[38;5;241m.\u001b[39m_overlapped_read \u001b[38;5;241m=\u001b[39m \u001b[38;5;28;01mNone\u001b[39;00m\n\u001b[0;32m     32\u001b[0m \u001b[38;5;28mself\u001b[39m\u001b[38;5;241m.\u001b[39m_overlapped_write \u001b[38;5;241m=\u001b[39m \u001b[38;5;28;01mNone\u001b[39;00m\n\u001b[1;32m---> 33\u001b[0m \u001b[38;5;28msuper\u001b[39m(Serial, \u001b[38;5;28mself\u001b[39m)\u001b[38;5;241m.\u001b[39m\u001b[38;5;21m__init__\u001b[39m(\u001b[38;5;241m*\u001b[39margs, \u001b[38;5;241m*\u001b[39m\u001b[38;5;241m*\u001b[39mkwargs)\n",
      "File \u001b[1;32m~\\miniconda3\\envs\\zigbee\\Lib\\site-packages\\serial\\serialutil.py:244\u001b[0m, in \u001b[0;36mSerialBase.__init__\u001b[1;34m(self, port, baudrate, bytesize, parity, stopbits, timeout, xonxoff, rtscts, write_timeout, dsrdtr, inter_byte_timeout, exclusive, **kwargs)\u001b[0m\n\u001b[0;32m    241\u001b[0m     \u001b[38;5;28;01mraise\u001b[39;00m \u001b[38;5;167;01mValueError\u001b[39;00m(\u001b[38;5;124m'\u001b[39m\u001b[38;5;124munexpected keyword arguments: \u001b[39m\u001b[38;5;132;01m{!r}\u001b[39;00m\u001b[38;5;124m'\u001b[39m\u001b[38;5;241m.\u001b[39mformat(kwargs))\n\u001b[0;32m    243\u001b[0m \u001b[38;5;28;01mif\u001b[39;00m port \u001b[38;5;129;01mis\u001b[39;00m \u001b[38;5;129;01mnot\u001b[39;00m \u001b[38;5;28;01mNone\u001b[39;00m:\n\u001b[1;32m--> 244\u001b[0m     \u001b[38;5;28mself\u001b[39m\u001b[38;5;241m.\u001b[39mopen()\n",
      "File \u001b[1;32m~\\miniconda3\\envs\\zigbee\\Lib\\site-packages\\serial\\serialwin32.py:64\u001b[0m, in \u001b[0;36mSerial.open\u001b[1;34m(self)\u001b[0m\n\u001b[0;32m     62\u001b[0m \u001b[38;5;28;01mif\u001b[39;00m \u001b[38;5;28mself\u001b[39m\u001b[38;5;241m.\u001b[39m_port_handle \u001b[38;5;241m==\u001b[39m win32\u001b[38;5;241m.\u001b[39mINVALID_HANDLE_VALUE:\n\u001b[0;32m     63\u001b[0m     \u001b[38;5;28mself\u001b[39m\u001b[38;5;241m.\u001b[39m_port_handle \u001b[38;5;241m=\u001b[39m \u001b[38;5;28;01mNone\u001b[39;00m    \u001b[38;5;66;03m# 'cause __del__ is called anyway\u001b[39;00m\n\u001b[1;32m---> 64\u001b[0m     \u001b[38;5;28;01mraise\u001b[39;00m SerialException(\u001b[38;5;124m\"\u001b[39m\u001b[38;5;124mcould not open port \u001b[39m\u001b[38;5;132;01m{!r}\u001b[39;00m\u001b[38;5;124m: \u001b[39m\u001b[38;5;132;01m{!r}\u001b[39;00m\u001b[38;5;124m\"\u001b[39m\u001b[38;5;241m.\u001b[39mformat(\u001b[38;5;28mself\u001b[39m\u001b[38;5;241m.\u001b[39mportstr, ctypes\u001b[38;5;241m.\u001b[39mWinError()))\n\u001b[0;32m     66\u001b[0m \u001b[38;5;28;01mtry\u001b[39;00m:\n\u001b[0;32m     67\u001b[0m     \u001b[38;5;28mself\u001b[39m\u001b[38;5;241m.\u001b[39m_overlapped_read \u001b[38;5;241m=\u001b[39m win32\u001b[38;5;241m.\u001b[39mOVERLAPPED()\n",
      "\u001b[1;31mSerialException\u001b[0m: could not open port 'COM5': FileNotFoundError(2, 'The system cannot find the file specified.', None, 2)"
     ]
    }
   ],
   "source": [
    "z0 = Zigbee(0, \"COM9\")"
   ]
  },
  {
   "cell_type": "markdown",
   "id": "b7b86fff-0cf1-4294-a35d-5d419a2bc24e",
   "metadata": {},
   "source": [
    "### Objetos Zigbee para instanciar las balizas fijas"
   ]
  },
  {
   "cell_type": "code",
   "execution_count": 21,
   "id": "69767656-258c-4bdc-bba2-be37ca5d7478",
   "metadata": {},
   "outputs": [],
   "source": [
<<<<<<< HEAD
    "z1 = Zigbee(1, \"COM5\", 240, 55)\n",
    "z2 = Zigbee(2, \"COM6\", 90, 60)\n",
    "z3 = Zigbee(3, \"COM8\", 20, 170)"
   ]
  },
  {
   "cell_type": "markdown",
   "id": "ece3826b-4245-4318-966a-92764e958160",
   "metadata": {},
   "source": [
    "## Configurar las balizas y el portátil móvil\n",
=======
    "## 2.6 Configuración de cada objeto\n",
>>>>>>> c4ce2a2793e1bcf2a497fff656c52810fe5f3f8f
    "\n",
    "La configuración sólo es necesaria la primera vez, ya que se guarda en memoria con ATWR\n",
    "\n",
    "### Configurar el nodo móvil"
   ]
  },
  {
   "cell_type": "code",
   "execution_count": 8,
   "id": "4269938f-cc48-4fb3-97b4-24a8dc7d0667",
   "metadata": {},
   "outputs": [
    {
     "name": "stdout",
     "output_type": "stream",
     "text": [
      "0>+++ \n",
      "z0>AT: [OK]\n",
      "z0>ATRE: [OK]\n",
      "z0>ATID 3210: [OK]\n",
      "z0>ATDH 0: [OK]\n",
      "z0>ATMY 0: [OK]\n",
      "z0>ATWR: [OK]\n",
      "z0>ATCN: [OK]\n"
     ]
    }
   ],
   "source": [
    "z0.configurar()"
   ]
  },
  {
   "cell_type": "markdown",
   "id": "32a48ee6-394d-4f82-a716-c1fd967a83b2",
   "metadata": {},
   "source": [
    "### Configurar las balizas"
   ]
  },
  {
   "cell_type": "code",
   "execution_count": 9,
   "id": "e499d3c8-3cb5-4070-bb69-49ef4adb0d00",
   "metadata": {},
   "outputs": [
    {
     "name": "stdout",
     "output_type": "stream",
     "text": [
      "1>+++ \n",
      "z1>AT: [OK]\n",
      "z1>ATRE: [OK]\n",
      "z1>ATID 3210: [OK]\n",
      "z1>ATDH 0: [OK]\n",
      "z1>ATMY 1: [OK]\n",
      "z1>ATWR: [OK]\n",
      "z1>ATCN: [OK]\n",
      "2>+++ \n",
      "z2>AT: [OK]\n",
      "z2>ATRE: [OK]\n",
      "z2>ATID 3210: [OK]\n",
      "z2>ATDH 0: [OK]\n",
      "z2>ATMY 2: [OK]\n",
      "z2>ATWR: [OK]\n",
      "z2>ATCN: [OK]\n",
      "3>+++ \n",
      "z3>AT: [OK]\n",
      "z3>ATRE: [OK]\n",
      "z3>ATID 3210: [OK]\n",
      "z3>ATDH 0: [OK]\n",
      "z3>ATMY 3: [OK]\n",
      "z3>ATWR: [OK]\n",
      "z3>ATCN: [OK]\n"
     ]
    }
   ],
   "source": [
    "z1.configurar()\n",
    "z2.configurar()\n",
    "z3.configurar()"
   ]
  },
  {
   "cell_type": "markdown",
   "id": "52c05d17-eb14-4e5c-8e31-d6a70fdc6a6a",
   "metadata": {},
   "source": [
<<<<<<< HEAD
    "## Pruebas unitarias de las balizas\n",
=======
    "## 2.7 Envío de datos para obtener la distancia\n",
>>>>>>> c4ce2a2793e1bcf2a497fff656c52810fe5f3f8f
    "\n",
    "### Envío de mensajes de texto"
   ]
  },
  {
   "cell_type": "code",
   "execution_count": 10,
   "id": "0549c383-e85d-4f16-8f4d-cc29f14ea521",
   "metadata": {},
   "outputs": [
    {
     "name": "stdout",
     "output_type": "stream",
     "text": [
      "Soy la baliza 1 en (240, 55)\n",
      "Soy la baliza 2 en (90, 60)\n",
      "Soy la baliza 3 en (20, 170)\n"
     ]
    }
   ],
   "source": [
    "balizas = [z1, z2, z3]\n",
    "for b in balizas:\n",
    "    print(\"Soy la baliza {} en ({}, {})\".format(b.myid, b.posx, b.posy))"
   ]
  },
  {
   "cell_type": "code",
   "execution_count": 11,
   "id": "1a4c34e2-0d4a-4857-b7c1-917a47d07fe9",
   "metadata": {},
   "outputs": [
    {
     "name": "stdout",
     "output_type": "stream",
     "text": [
      "z1 envía a z2: [Mensaje de 1 a 2]\n",
      "1>+++ \n",
      "z1>ATDL 2: [OK]\n",
      "z1>ATCN: [OK]\n",
      "z2 recibe: [\n",
      "Mensaje de 1 a 2]\n"
     ]
    }
   ],
   "source": [
    "z1.enviar(2, \"Mensaje de 1 a 2\")\n",
    "resp = z2.recibir_texto()"
   ]
  },
  {
   "cell_type": "code",
   "execution_count": 12,
   "id": "cdddc33f-6960-4efd-a1cd-054ccbcfda34",
   "metadata": {},
   "outputs": [
    {
     "name": "stdout",
     "output_type": "stream",
     "text": [
      "z1 envía a z2: [Otro de 1 a 2, no hace falta DL al ser el mismo destino]\n",
      "z2 recibe: [Otro de 1 a 2, no ]\n"
     ]
    }
   ],
   "source": [
    "z1.enviar(2, \"Otro de 1 a 2, no hace falta DL al ser el mismo destino\")\n",
    "resp2 = z2.recibir_texto()"
   ]
  },
  {
   "cell_type": "code",
   "execution_count": 13,
   "id": "8c09ff99-1c84-45b5-9075-b27cad0b32b0",
   "metadata": {},
   "outputs": [
    {
     "name": "stdout",
     "output_type": "stream",
     "text": [
      "z1 envía a z3: [Mensaje de 1 a 3, hace falta DL al ser distinto destino]\n",
      "1>+++ \n",
      "z1>ATDL 3: [OK]\n",
      "z1>ATCN: [OK]\n",
      "z3 recibe: [\n",
      "Mensaje de 1 a 3, hace fa]\n"
     ]
    }
   ],
   "source": [
    "z1.enviar(3, \"Mensaje de 1 a 3, hace falta DL al ser distinto destino\")\n",
    "resp3 = z3.recibir_texto()"
   ]
  },
  {
   "cell_type": "markdown",
   "id": "fcb593eb-cb98-4ef6-8119-a67143ca47f9",
   "metadata": {},
   "source": [
    "### Pruebas con mensajes de balizas"
   ]
  },
  {
   "cell_type": "code",
   "execution_count": 14,
   "id": "79e38f10-a291-4fad-a17c-d7f8717b0c92",
   "metadata": {},
   "outputs": [
    {
     "name": "stdout",
     "output_type": "stream",
     "text": [
      "z1 envía a z0: [ baliza=1 posx=240 posy=55 ]\n",
      "1>+++ \n",
      "z1>ATDL 0: [OK]\n",
      "z1>ATCN: [OK]\n",
      "0>+++ \n",
      "z0>ATDB: [2D]\n",
      "z0>ATCN: [OK]\n",
      "z0 recibe: baliza=1 x=240 y=55 RSSI=[2D] => Distancia=12.70 (cm)\n",
      "Baliza=1, Posx=240, Posy=55, Dist=12.696086407626055\n",
      "z2 envía a z0: [ baliza=2 posx=90 posy=60 ]\n",
      "2>+++ \n",
      "OK]ATDL 0: [e falta DL al ser el mismo destinoOK\n",
      "z2>ATCN: [OK]\n",
      "0>+++ \n",
      "z0>ATDB: [3B]\n",
      "z0>ATCN: [OK]\n",
      "z0 recibe: baliza=2 x=90 y=60 RSSI=[3B] => Distancia=69.57 (cm)\n",
      "Baliza=2, Posx=90, Posy=60, Dist=69.56724154568433\n",
      "z3 envía a z0: [ baliza=3 posx=20 posy=170 ]\n",
      "3>+++ \n",
      "OK]ATDL 0: [DL al ser distinto destinoOK\n",
      "z3>ATCN: [OK]\n",
      "0>+++ \n",
      "z0>ATDB: [3B]\n",
      "z0>ATCN: [OK]\n",
      "z0 recibe: baliza=3 x=20 y=170 RSSI=[3B] => Distancia=69.57 (cm)\n",
      "Baliza=3, Posx=20, Posy=170, Dist=69.56724154568433\n"
     ]
    }
   ],
   "source": [
    "for b in balizas:\n",
    "    b.enviar_mi_posicion(0)\n",
    "    resp = z0.recibir_baliza()\n",
    "    print(\"Baliza={}, Posx={}, Posy={}, Dist={}\".format(resp[0], resp[1], resp[2], resp[3]))"
   ]
  },
  {
   "cell_type": "markdown",
   "id": "ee61827d-fe2c-479c-8636-b5e243f7af61",
   "metadata": {},
   "source": [
    "## Prueba completa desde posición inicial cercana a las balizas"
   ]
  },
  {
   "cell_type": "code",
   "execution_count": 15,
   "id": "98facbb0-822c-447d-82cf-03752c65556b",
   "metadata": {},
   "outputs": [
    {
     "name": "stdout",
     "output_type": "stream",
     "text": [
      "z1 envía a z0: [ baliza=1 posx=240 posy=55 ]\n",
      "0>+++ \n",
      "z0>ATDB: [2D]\n",
      "z0>ATCN: [OK]\n",
      "z0 recibe: baliza=1 x=240 y=55 RSSI=[2D] => Distancia=12.70 (cm)\n",
      "z2 envía a z0: [ baliza=2 posx=90 posy=60 ]\n",
      "0>+++ \n",
      "z0>ATDB: [3A]\n",
      "z0>ATCN: [OK]\n",
      "z0 recibe: baliza=2 x=90 y=60 RSSI=[3A] => Distancia=61.61 (cm)\n",
      "z3 envía a z0: [ baliza=3 posx=20 posy=170 ]\n",
      "0>+++ \n",
      "z0>ATDB: [3B]\n",
      "z0>ATCN: [OK]\n",
      "z0 recibe: baliza=3 x=20 y=170 RSSI=[3B] => Distancia=69.57 (cm)\n",
      "La posición de 0 es x=158.436, y=84.064\n"
     ]
    }
   ],
   "source": [
    "z1.enviar_mi_posicion(0)\n",
    "r1 = z0.recibir_baliza()\n",
    "\n",
    "z2.enviar_mi_posicion(0)\n",
    "r2 = z0.recibir_baliza()\n",
    "\n",
    "z3.enviar_mi_posicion(0)\n",
    "r3 = z0.recibir_baliza()\n",
    "\n",
    "x0, y0 = z0.posicionar(r1, r2, r3)"
   ]
  },
  {
   "cell_type": "code",
   "execution_count": 16,
   "id": "7b1536a8-781b-442a-a3eb-5c68363f2b5f",
   "metadata": {},
   "outputs": [
    {
     "data": {
      "image/png": "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",
      "text/plain": [
       "<Figure size 640x480 with 1 Axes>"
      ]
     },
     "metadata": {},
     "output_type": "display_data"
    }
   ],
   "source": [
    "graficar_resultados(r1, r2, r3, (x0, y0))"
   ]
  },
  {
   "cell_type": "markdown",
   "id": "3d68fa76-93bc-42fe-b4c5-06bb7644f168",
   "metadata": {},
   "source": [
    "## Repetición de la prueba alejando el dispositivo de las balizas"
   ]
  },
  {
   "cell_type": "code",
   "execution_count": 22,
   "id": "db538fbc-39f3-480b-a911-941d7f2f1262",
   "metadata": {},
   "outputs": [
    {
     "name": "stdout",
     "output_type": "stream",
     "text": [
      "z1 envía a z0: [ baliza=1 posx=240 posy=55 ]\n",
      "1>+++ \n",
      "z1>ATDL 0: [OK]\n",
      "z1>ATCN: [OK]\n",
      "0>+++ \n",
      "z0>ATDB: [3E]\n",
      "z0>ATCN: [OK]\n",
      "z0 recibe: baliza=1 x=240 y=55 RSSI=[3E] => Distancia=100.16 (cm)\n",
      "z2 envía a z0: [ baliza=2 posx=90 posy=60 ]\n",
      "2>+++ \n",
      "z2>ATDL 0: [OK]\n",
      "z2>ATCN: [OK]\n",
      "0>+++ \n",
      "z0>ATDB: [41]\n",
      "z0>ATCN: [OK]\n",
      "z0 recibe: baliza=2 x=90 y=60 RSSI=[41] => Distancia=144.21 (cm)\n",
      "z3 envía a z0: [ baliza=3 posx=20 posy=170 ]\n",
      "3>+++ \n",
      "z3>ATDL 0: [OK]\n",
      "z3>ATCN: [OK]\n",
      "0>+++ \n",
      "z0>ATDB: [3A]\n",
      "z0>ATCN: [OK]\n",
      "z0 recibe: baliza=3 x=20 y=170 RSSI=[3A] => Distancia=61.61 (cm)\n",
      "La posición de 0 es x=110.723, y=131.777\n"
     ]
    },
    {
     "data": {
      "image/png": "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",
      "text/plain": [
       "<Figure size 640x480 with 1 Axes>"
      ]
     },
     "metadata": {},
     "output_type": "display_data"
    }
   ],
   "source": [
    "z1.enviar_mi_posicion(0)\n",
    "r1 = z0.recibir_baliza()\n",
    "\n",
    "z2.enviar_mi_posicion(0)\n",
    "r2 = z0.recibir_baliza()\n",
    "\n",
    "z3.enviar_mi_posicion(0)\n",
    "r3 = z0.recibir_baliza()\n",
    "\n",
    "x0, y0 = z0.posicionar(r1, r2, r3)\n",
    "graficar_resultados(r1, r2, r3, (x0, y0))"
   ]
  },
  {
   "cell_type": "markdown",
   "id": "72faf425-08d8-417a-9f93-269140c81e4f",
   "metadata": {},
   "source": [
    "## Cerrar los puertos serie"
   ]
  },
  {
   "cell_type": "code",
   "execution_count": 23,
   "id": "b42c1134-a28e-45b4-8a9e-22aaed72faf6",
   "metadata": {},
   "outputs": [],
   "source": [
    "z0.cerrar()"
   ]
  },
  {
   "cell_type": "code",
   "execution_count": 24,
   "id": "1ecc1dca-2821-4654-9796-abbd89edeb4b",
   "metadata": {},
   "outputs": [],
   "source": [
    "z1.cerrar()\n",
    "z2.cerrar()\n",
    "z3.cerrar()"
   ]
  },
  {
   "cell_type": "code",
   "execution_count": null,
   "id": "d0482936-0ef1-463e-aaaa-1e61fbcb483b",
   "metadata": {},
   "outputs": [],
   "source": []
  }
 ],
 "metadata": {
  "kernelspec": {
   "display_name": "Python 3 (ipykernel)",
   "language": "python",
   "name": "python3"
  },
  "language_info": {
   "codemirror_mode": {
    "name": "ipython",
    "version": 3
   },
   "file_extension": ".py",
   "mimetype": "text/x-python",
   "name": "python",
   "nbconvert_exporter": "python",
   "pygments_lexer": "ipython3",
   "version": "3.12.3"
  }
 },
 "nbformat": 4,
 "nbformat_minor": 5
}
