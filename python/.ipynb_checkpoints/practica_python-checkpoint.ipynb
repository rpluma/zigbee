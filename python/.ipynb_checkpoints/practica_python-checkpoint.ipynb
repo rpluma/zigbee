{
 "cells": [
  {
   "cell_type": "markdown",
   "id": "2e9b45cd-0f11-4aaa-8a99-b4a4025b1728",
   "metadata": {},
   "source": [
    "# Preparación del entrono\n",
    "\n",
    "## Paquetes de conda\n",
    "\n",
    "Instalar miniconda: https://docs.anaconda.com/free/miniconda/index.html\n",
    "\n",
    "Crear un entorno y configurarlo\n",
    "\n",
    "```\n",
    "conda create -n zigbee python\n",
    "conda activate zigbee\n",
    "conda install pyserial jupyter\n",
    "```\n",
    "\n",
    "## Puertos serie de cada dispositvo\n",
    "\n",
    "Gestión de dispositivos -> Com Ports\n",
    "- COM5: dispositivo 1\n",
    "- COM6: dispositivo 2\n",
    "- COM7: dispositivo 3\n",
    "- COM8: dispositivo 4"
   ]
  },
  {
   "cell_type": "markdown",
   "id": "4b64ace1-9b30-4609-9438-c65fbd1aa7c9",
   "metadata": {},
   "source": [
    "## Importación de librerías"
   ]
  },
  {
   "cell_type": "code",
   "execution_count": 1,
   "id": "4d80ecd2-94a4-4036-bb5c-aea6e817c745",
   "metadata": {},
   "outputs": [],
   "source": [
    "import sys\n",
    "import time\n",
    "import serial\n",
    "from math import exp # función exponencial"
   ]
  },
  {
   "cell_type": "markdown",
   "id": "296e9c68-35dd-42ee-aeee-3bdc52c03f4e",
   "metadata": {},
   "source": [
    "## Conversión de rssi (hexadecimal) a entero"
   ]
  },
  {
   "cell_type": "code",
   "execution_count": 2,
   "id": "340f5a2d-fc6d-440d-b528-0e955d25d3e2",
   "metadata": {},
   "outputs": [
    {
     "data": {
      "text/plain": [
       "['1B=>1.425', '34=>29.719', '40=>127.714', '47=>298.955']"
      ]
     },
     "execution_count": 2,
     "metadata": {},
     "output_type": "execute_result"
    }
   ],
   "source": [
    "def rssi2dist(rssi):\n",
    "    x = int(rssi.strip(),16)\n",
    "    y = 0.0536*exp(0.1215*x)\n",
    "    return y\n",
    "[\"{0}=>{1:.3f}\".format(hex,rssi2dist(hex)) for hex in ['1B', '34', '40', '47']]\n"
   ]
  },
  {
   "cell_type": "markdown",
   "id": "28494d52-75a7-4b4a-b8ca-7b3fbb6bfb6a",
   "metadata": {},
   "source": [
    "## Clase Zigbee \n",
    "\n",
    "Empaqueta toda la funcionalidad requerida para un dispositivo:\n",
    "- Método init: Constructor de la clase.\n",
    "    - Inicializa el puerto serie con parámetros por defecto (9600 8-N-1)\n",
    "    - El argumento dev es de la forma '/dev/ttyUSB*' o 'COM*'\n",
    "- Método command_mode_start: Entra en modo comando con +++\n",
    "- Método command_mode_exit: Sale del modo comando con ATCN\n",
    "- Método command_at: envía un mensaje tipo AT concatenando un fin de línea e imprime el comando y la respuesta\n",
    "- Método configurar: configura un dispositivo y guarda la configuración de forma permanente\n",
    "- Método enviar: envía un mensaje cambiando el destino con ATDL cuando sea preciso"
   ]
  },
  {
   "cell_type": "code",
   "execution_count": 3,
   "id": "24cf691f-f4ea-4bc8-a177-5be671cbcb73",
   "metadata": {},
   "outputs": [],
   "source": [
    "class Zigbee:\n",
    "    puerto = None\n",
    "    panid = None\n",
    "    dlid = None\n",
    "    \n",
    "    def __init__(self, myid, device):\n",
    "        self.myid = str(myid)\n",
    "        self.puerto = serial.Serial(device, 9600, \n",
    "                            parity=serial.PARITY_NONE,\n",
    "                            bytesize=serial.EIGHTBITS,\n",
    "                            stopbits=serial.STOPBITS_ONE,\n",
    "                            rtscts=False)\n",
    "        \n",
    "    def command_mode_start(self):\n",
    "        time.sleep(1)   # guarda de 1 segundo\n",
    "        self.puerto.write(b'+++') \n",
    "        time.sleep(1)   # ademas hay que esperar 1 segundo al OK\n",
    "        print(\"{}>+++ \".format(self.myid, self.puerto.read(3).decode('utf-8')))\n",
    "        return \n",
    "\n",
    "    def command_mode_exit(self):\n",
    "        self.command_at('ATCN')\n",
    "        return\n",
    "\n",
    "    def command_at(self, msg): \n",
    "        time.sleep(1)\n",
    "        toSerial = msg+\"\\r\\n\" # concatenar LF, CR\n",
    "        self.puerto.write(toSerial.encode('ascii', 'replace'))\n",
    "        self.puerto.flush()\n",
    "        time.sleep(.2)\n",
    "        bytesToRead = self.puerto.inWaiting() # imprimir respuesta\n",
    "        fromSerial = self.puerto.read(bytesToRead)\n",
    "        print (\"{}>{}: [{}]\".format(self.myid, msg, fromSerial.decode('utf-8').strip()))\n",
    "        return fromSerial.decode('utf-8')\n",
    "        \n",
    "    def configurar(self, panid='3210'):\n",
    "        self.panid = str(panid)             # guardar el valor de panid como string        \n",
    "        self.command_mode_start()           # entrar en modo comando con +++\n",
    "        self.command_at('AT')               # comprobar que se aceptan comandos AT\n",
    "        self.command_at('ATRE')             # resetea la configuración guardada\n",
    "        self.command_at('ATID '+self.panid) # definir el PANID\n",
    "        self.command_at('ATDH 0')           # definir direcciones de 16 bits\n",
    "        self.command_at('ATMY '+self.myid)  # definir la dirección MY addres\n",
    "        self.command_at('ATWR')             # guardar la configuración de forma permanente\n",
    "        # self.command_at('ATCH')\n",
    "        self.command_mode_exit()            # salir del modo +++\n",
    "\n",
    "    def enviar(self, destino='2', msg='mensaje'):\n",
    "        if self.dlid != str(destino):\n",
    "            self.dlid = str(destino)\n",
    "            self.command_mode_start()         # entrar en modo comando con +++\n",
    "            self.command_at('ATDL '+self.dlid)     # establecer el destino del mensaje        \n",
    "            self.command_mode_exit()          # salir del modo +++\n",
    "        self.puerto.write(msg.encode('ascii', 'replace'))\n",
    "        self.puerto.flush()\n",
    "        time.sleep(.1)\n",
    "    \n",
    "    def recibir(self, bGetDb=True):\n",
    "        dist = None\n",
    "        \n",
    "        bytesToRead = self.puerto.inWaiting() # imprimir respuesta\n",
    "        fromSerial = self.puerto.read(bytesToRead)\n",
    "        if bGetDb:\n",
    "            self.command_mode_start()      # entrar en modo comando con +++\n",
    "            rssi = self.command_at('ATDB') # obtener el RSSI\n",
    "            dist = rssi2dist(rssi);\n",
    "            self.command_mode_exit()       # salir del modo +++            \n",
    "            print(\"RSSI=[{}] => Distancia={:.2f} (m)\".format(rssi.strip(), dist))\n",
    "        return (fromSerial, dist)\n",
    "\n",
    "    def cerrar(self):\n",
    "        self.puerto.close()\n",
    "        \n",
    "        "
   ]
  },
  {
   "cell_type": "markdown",
   "id": "85972256-0c66-4a06-aa8a-d15622921986",
   "metadata": {},
   "source": [
    "## Creación de objetos Zigbee para cada uno de los cuatro dispositivos"
   ]
  },
  {
   "cell_type": "code",
   "execution_count": 4,
   "id": "583f0615-1e8a-4fa2-b580-fe0733f46985",
   "metadata": {},
   "outputs": [],
   "source": [
    "z1 = Zigbee(1, \"COM5\")\n",
    "z2 = Zigbee(2, \"COM6\")\n",
    "z3 = Zigbee(3, \"COM8\")\n",
    "z4 = Zigbee(4, \"COM9\")"
   ]
  },
  {
   "cell_type": "markdown",
   "id": "61372edf-65de-4b82-bc60-22da037d9ed4",
   "metadata": {},
   "source": [
    "## Configuración de cada objeto\n",
    "\n",
    "### Configuración del objeto z1\n",
    "\n",
    "Sólo es necesario la primera vez, ya que la configuración se guarda con ATWR"
   ]
  },
  {
   "cell_type": "code",
   "execution_count": 5,
   "id": "65dace34-1fb6-4cfb-a777-e2b647872254",
   "metadata": {},
   "outputs": [
    {
     "name": "stdout",
     "output_type": "stream",
     "text": [
      "1>+++ \n",
      "1>AT: [OK]\n",
      "1>ATRE: [OK]\n",
      "1>ATID 3210: [OK]\n",
      "1>ATDH 0: [OK]\n",
      "1>ATMY 1: [OK]\n",
      "1>ATWR: [OK]\n",
      "1>ATCN: [OK]\n"
     ]
    }
   ],
   "source": [
    "z1.configurar()"
   ]
  },
  {
   "cell_type": "markdown",
   "id": "b3dfb25d-dd78-4a7a-8732-07475fd47d3c",
   "metadata": {},
   "source": [
    "### Configuración de z2, z3 y z4"
   ]
  },
  {
   "cell_type": "code",
   "execution_count": 6,
   "id": "8091c594-ae9a-4709-9a3f-7b52914a2e95",
   "metadata": {},
   "outputs": [
    {
     "name": "stdout",
     "output_type": "stream",
     "text": [
      "2>+++ \n",
      "2>AT: [OK]\n",
      "2>ATRE: [OK]\n",
      "2>ATID 3210: [OK]\n",
      "2>ATDH 0: [OK]\n",
      "2>ATMY 2: [OK]\n",
      "2>ATWR: [OK]\n",
      "2>ATCN: [OK]\n",
      "3>+++ \n",
      "3>AT: [OK]\n",
      "3>ATRE: [OK]\n",
      "3>ATID 3210: [OK]\n",
      "3>ATDH 0: [OK]\n",
      "3>ATMY 3: [OK]\n",
      "3>ATWR: [OK]\n",
      "3>ATCN: [OK]\n",
      "4>+++ \n",
      "4>AT: [OK]\n",
      "4>ATRE: [OK]\n",
      "4>ATID 3210: [OK]\n",
      "4>ATDH 0: [OK]\n",
      "4>ATMY 4: [OK]\n",
      "4>ATWR: [OK]\n",
      "4>ATCN: [OK]\n"
     ]
    }
   ],
   "source": [
    "z2.configurar()\n",
    "z3.configurar()\n",
    "z4.configurar()"
   ]
  },
  {
   "cell_type": "markdown",
   "id": "fbb64d46-aa0d-43b9-ad22-47195a47eb59",
   "metadata": {},
   "source": [
    "## Envío de datos para obtener la distancia\n",
    "\n",
    "### Envío de datos desde z2 a z1\n",
    "\n",
    "La primera vez que se invoca a enviar cambia la dirección de destino así que hay que utilizar ATDL"
   ]
  },
  {
   "cell_type": "code",
   "execution_count": 7,
   "id": "651b42e1-63be-44ae-91e3-38e548c29750",
   "metadata": {},
   "outputs": [
    {
     "name": "stdout",
     "output_type": "stream",
     "text": [
      "2>+++ \n",
      "2>ATDL 1: [OK]\n",
      "2>ATCN: [OK]\n"
     ]
    }
   ],
   "source": [
    "z2.enviar('1', \" mensaje 1 de 2 a 1\")"
   ]
  },
  {
   "cell_type": "markdown",
   "id": "a1347a56-8c1d-4e11-b0e9-862ce29bd58e",
   "metadata": {},
   "source": [
    "Los siguientes envíos ya no hace falta cambiar el destino y el objeto no utiliza ATDL"
   ]
  },
  {
   "cell_type": "code",
   "execution_count": 8,
   "id": "e9f4b138-f43a-4bfb-99a8-e667725d0148",
   "metadata": {},
   "outputs": [],
   "source": [
    "z2.enviar('1', \" mensaje 2 de 2 a 1\")"
   ]
  },
  {
   "cell_type": "markdown",
   "id": "fe30c0be-3093-4a8b-a10d-6b4164f2711a",
   "metadata": {},
   "source": [
    "La recepción en 1 indica la distancia de z2 a z1"
   ]
  },
  {
   "cell_type": "code",
   "execution_count": 9,
   "id": "1f422c83-989c-449d-9934-7649ba421305",
   "metadata": {},
   "outputs": [
    {
     "name": "stdout",
     "output_type": "stream",
     "text": [
      "1>+++ \n",
      "1>ATDB: [37]\n",
      "1>ATCN: [OK]\n",
      "RSSI=[37] => Distancia=42.79 (m)\n",
      "Respuesta=[b'mensaje 1 de 2 a 1 mensaje 2 de 2 a 1'], distancia=42.790\n"
     ]
    }
   ],
   "source": [
    "resp, d2 = z1.recibir()\n",
    "print(\"Respuesta=[{}], distancia={:.3f}\".format(resp.strip(), d2))"
   ]
  },
  {
   "cell_type": "code",
   "execution_count": 10,
   "id": "cb4b4061-01ee-40f3-a7fc-4694abf4f44b",
   "metadata": {},
   "outputs": [
    {
     "name": "stdout",
     "output_type": "stream",
     "text": [
      "3>+++ \n",
      "3>ATDL 1: [OK]\n",
      "3>ATCN: [OK]\n",
      "1>+++ \n",
      "1>ATDB: [3C]\n",
      "1>ATCN: [OK]\n",
      "RSSI=[3C] => Distancia=78.55 (m)\n"
     ]
    }
   ],
   "source": [
    "z3.enviar('1', \" mensaje 1 de 3 a 1\")\n",
    "resp3, d3 = z1.recibir()"
   ]
  },
  {
   "cell_type": "code",
   "execution_count": 11,
   "id": "db9c96e2-e3c5-455a-8d2d-a8733039131a",
   "metadata": {},
   "outputs": [
    {
     "name": "stdout",
     "output_type": "stream",
     "text": [
      "4>+++ \n",
      "4>ATDL 4: [OK]\n",
      "4>ATCN: [OK]\n",
      "1>+++ \n",
      "1>ATDB: [0]\n",
      "1>ATCN: [OK]\n",
      "RSSI=[0] => Distancia=0.05 (m)\n"
     ]
    }
   ],
   "source": [
    "z4.enviar('4', \" mensaje 1 de 4 a 1\")\n",
    "resp4, d4 = z1.recibir()"
   ]
  },
  {
   "cell_type": "code",
   "execution_count": 12,
   "id": "d1d68a26-59b4-491f-ad4e-66225f2e349a",
   "metadata": {},
   "outputs": [
    {
     "data": {
      "text/plain": [
       "'Distancias: d2=42.790, d3=78.555, d4=0.054'"
      ]
     },
     "execution_count": 12,
     "metadata": {},
     "output_type": "execute_result"
    }
   ],
   "source": [
    "\"Distancias: d2={:.3f}, d3={:.3f}, d4={:.3f}\".format(d2, d3, d4)"
   ]
  },
  {
   "cell_type": "code",
   "execution_count": 13,
   "id": "43461d96-6760-4e5c-8c24-a6a5b68589eb",
   "metadata": {},
   "outputs": [],
   "source": [
    "z1.cerrar()\n",
    "z2.cerrar()\n",
    "z3.cerrar()\n",
    "z4.cerrar()"
   ]
  },
  {
   "cell_type": "code",
   "execution_count": null,
   "id": "9e604092-8570-47a5-a1a1-d63be863ef28",
   "metadata": {},
   "outputs": [],
   "source": []
  }
 ],
 "metadata": {
  "kernelspec": {
   "display_name": "Python 3 (ipykernel)",
   "language": "python",
   "name": "python3"
  },
  "language_info": {
   "codemirror_mode": {
    "name": "ipython",
    "version": 3
   },
   "file_extension": ".py",
   "mimetype": "text/x-python",
   "name": "python",
   "nbconvert_exporter": "python",
   "pygments_lexer": "ipython3",
   "version": "3.12.2"
  }
 },
 "nbformat": 4,
 "nbformat_minor": 5
}
